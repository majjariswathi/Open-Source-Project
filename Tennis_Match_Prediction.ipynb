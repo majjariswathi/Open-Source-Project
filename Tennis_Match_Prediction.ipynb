{
  "nbformat": 4,
  "nbformat_minor": 0,
  "metadata": {
    "colab": {
      "name": "Tennis Match Prediction.ipynb",
      "provenance": [],
      "authorship_tag": "ABX9TyNo9lYjrt0fNgSBauToO8Qu",
      "include_colab_link": true
    },
    "kernelspec": {
      "name": "python3",
      "display_name": "Python 3"
    },
    "language_info": {
      "name": "python"
    }
  },
  "cells": [
    {
      "cell_type": "markdown",
      "metadata": {
        "id": "view-in-github",
        "colab_type": "text"
      },
      "source": [
        "<a href=\"https://colab.research.google.com/github/majjariswathi/Open-Source-Project/blob/master/Tennis_Match_Prediction.ipynb\" target=\"_parent\"><img src=\"https://colab.research.google.com/assets/colab-badge.svg\" alt=\"Open In Colab\"/></a>"
      ]
    },
    {
      "cell_type": "code",
      "metadata": {
        "id": "hVKrh5L2mU51"
      },
      "source": [
        "import os\n",
        "import numpy as np\n",
        "import random\n",
        "import pandas as pd\n",
        "import matplotlib.pyplot as plt\n",
        "import seaborn as sns\n",
        "import math\n",
        "%matplotlib inline\n",
        "\n",
        "import sklearn.neighbors as neighbors\n",
        "from sklearn.decomposition import TruncatedSVD\n",
        "from sklearn import manifold\n",
        "from sklearn.model_selection import train_test_split\n",
        "from sklearn.utils import shuffle\n",
        "from sklearn.feature_selection import RFE\n",
        "from sklearn.linear_model import LogisticRegression\n",
        "from sklearn.preprocessing import StandardScaler\n",
        "from sklearn.ensemble import RandomForestClassifier"
      ],
      "execution_count": 2,
      "outputs": []
    },
    {
      "cell_type": "code",
      "metadata": {
        "id": "oKvZ0ZGvmm5H"
      },
      "source": [
        "aus_men = pd.read_csv(\"AusOpen-men-2013.csv\")\n",
        "aus_women = pd.read_csv(\"AusOpen-women-2013.csv\")\n",
        "aus_men['slam_code'] = 1\n",
        "aus_women['slam_code'] = 1\n",
        "aus_women['Sex'] = 1\n",
        "aus_men['Sex'] = 2\n",
        "\n",
        "\n",
        "fre_men = pd.read_csv(\"FrenchOpen-men-2013.csv\")\n",
        "fre_women = pd.read_csv(\"FrenchOpen-women-2013.csv\")\n",
        "fre_men['slam_code'] = 2\n",
        "fre_women['slam_code'] = 2\n",
        "fre_women['Sex'] = 1\n",
        "fre_men['Sex'] = 2\n",
        "\n",
        "wim_men = pd.read_csv(\"Wimbledon-men-2013.csv\")\n",
        "wim_women = pd.read_csv(\"Wimbledon-women-2013.csv\")\n",
        "wim_men['slam_code'] = 3\n",
        "wim_women['slam_code'] = 3\n",
        "wim_women['Sex'] = 1\n",
        "wim_men['Sex'] = 2\n",
        "\n",
        "us_men = pd.read_csv(\"USOpen-men-2013.csv\")\n",
        "us_women = pd.read_csv(\"USOpen-women-2013.csv\")\n",
        "us_men['slam_code'] = 4\n",
        "us_women['slam_code'] = 4\n",
        "us_women['Sex'] = 1\n",
        "us_men['Sex'] = 2"
      ],
      "execution_count": 4,
      "outputs": []
    },
    {
      "cell_type": "code",
      "metadata": {
        "id": "T0YjmCx1nEES"
      },
      "source": [
        "aus_men = aus_men.rename(columns={'FNL1': 'FNL.1', 'FNL2': 'FNL.2'})\n",
        "aus_women = aus_women.rename(columns={'FNL1': 'FNL.1', 'FNL2': 'FNL.2'})"
      ],
      "execution_count": 5,
      "outputs": []
    },
    {
      "cell_type": "code",
      "metadata": {
        "id": "L3hXCie-nvJH"
      },
      "source": [
        "us_men = us_men.rename(columns={'FNL1': 'FNL.1', 'FNL2': 'FNL.2'})\n",
        "us_women = us_women.rename(columns={'Player 1': 'Player1', 'Player 2': 'Player2'})"
      ],
      "execution_count": 6,
      "outputs": []
    },
    {
      "cell_type": "code",
      "metadata": {
        "id": "TA9fnUr_nytt"
      },
      "source": [
        "frames = [aus_men, fre_men, wim_men, us_men, aus_women, fre_women, wim_women, us_women]\n",
        "tennis_merge = pd.concat(frames)"
      ],
      "execution_count": 7,
      "outputs": []
    },
    {
      "cell_type": "code",
      "metadata": {
        "colab": {
          "base_uri": "https://localhost:8080/"
        },
        "id": "lQTrfvnNnyza",
        "outputId": "716ed5d3-01a8-4a88-d3e8-22ddd37f97bf"
      },
      "source": [
        "tennis_merge.columns[tennis_merge.isnull().any()]"
      ],
      "execution_count": 8,
      "outputs": [
        {
          "output_type": "execute_result",
          "data": {
            "text/plain": [
              "Index(['FNL.1', 'FNL.2', 'ACE.1', 'DBF.1', 'WNR.1', 'UFE.1', 'BPC.1', 'BPW.1',\n",
              "       'NPA.1', 'NPW.1', 'TPW.1', 'ST1.1', 'ST2.1', 'ST3.1', 'ST4.1', 'ST5.1',\n",
              "       'ACE.2', 'DBF.2', 'WNR.2', 'UFE.2', 'BPC.2', 'BPW.2', 'NPA.2', 'NPW.2',\n",
              "       'TPW.2', 'ST1.2', 'ST2.2', 'ST3.2', 'ST4.2', 'ST5.2'],\n",
              "      dtype='object')"
            ]
          },
          "metadata": {
            "tags": []
          },
          "execution_count": 8
        }
      ]
    },
    {
      "cell_type": "code",
      "metadata": {
        "colab": {
          "base_uri": "https://localhost:8080/",
          "height": 309
        },
        "id": "5dm4NOkpn62c",
        "outputId": "86efc274-8998-4811-95df-475b727fcbed"
      },
      "source": [
        "tennis_merge.head()"
      ],
      "execution_count": 9,
      "outputs": [
        {
          "output_type": "execute_result",
          "data": {
            "text/html": [
              "<div>\n",
              "<style scoped>\n",
              "    .dataframe tbody tr th:only-of-type {\n",
              "        vertical-align: middle;\n",
              "    }\n",
              "\n",
              "    .dataframe tbody tr th {\n",
              "        vertical-align: top;\n",
              "    }\n",
              "\n",
              "    .dataframe thead th {\n",
              "        text-align: right;\n",
              "    }\n",
              "</style>\n",
              "<table border=\"1\" class=\"dataframe\">\n",
              "  <thead>\n",
              "    <tr style=\"text-align: right;\">\n",
              "      <th></th>\n",
              "      <th>Player1</th>\n",
              "      <th>Player2</th>\n",
              "      <th>Round</th>\n",
              "      <th>Result</th>\n",
              "      <th>FNL.1</th>\n",
              "      <th>FNL.2</th>\n",
              "      <th>FSP.1</th>\n",
              "      <th>FSW.1</th>\n",
              "      <th>SSP.1</th>\n",
              "      <th>SSW.1</th>\n",
              "      <th>ACE.1</th>\n",
              "      <th>DBF.1</th>\n",
              "      <th>WNR.1</th>\n",
              "      <th>UFE.1</th>\n",
              "      <th>BPC.1</th>\n",
              "      <th>BPW.1</th>\n",
              "      <th>NPA.1</th>\n",
              "      <th>NPW.1</th>\n",
              "      <th>TPW.1</th>\n",
              "      <th>ST1.1</th>\n",
              "      <th>ST2.1</th>\n",
              "      <th>ST3.1</th>\n",
              "      <th>ST4.1</th>\n",
              "      <th>ST5.1</th>\n",
              "      <th>FSP.2</th>\n",
              "      <th>FSW.2</th>\n",
              "      <th>SSP.2</th>\n",
              "      <th>SSW.2</th>\n",
              "      <th>ACE.2</th>\n",
              "      <th>DBF.2</th>\n",
              "      <th>WNR.2</th>\n",
              "      <th>UFE.2</th>\n",
              "      <th>BPC.2</th>\n",
              "      <th>BPW.2</th>\n",
              "      <th>NPA.2</th>\n",
              "      <th>NPW.2</th>\n",
              "      <th>TPW.2</th>\n",
              "      <th>ST1.2</th>\n",
              "      <th>ST2.2</th>\n",
              "      <th>ST3.2</th>\n",
              "      <th>ST4.2</th>\n",
              "      <th>ST5.2</th>\n",
              "      <th>slam_code</th>\n",
              "      <th>Sex</th>\n",
              "    </tr>\n",
              "  </thead>\n",
              "  <tbody>\n",
              "    <tr>\n",
              "      <th>0</th>\n",
              "      <td>Lukas Lacko</td>\n",
              "      <td>Novak Djokovic</td>\n",
              "      <td>1</td>\n",
              "      <td>0</td>\n",
              "      <td>0.0</td>\n",
              "      <td>3.0</td>\n",
              "      <td>61</td>\n",
              "      <td>35</td>\n",
              "      <td>39</td>\n",
              "      <td>18</td>\n",
              "      <td>5.0</td>\n",
              "      <td>1.0</td>\n",
              "      <td>17.0</td>\n",
              "      <td>29.0</td>\n",
              "      <td>1.0</td>\n",
              "      <td>3.0</td>\n",
              "      <td>8.0</td>\n",
              "      <td>11.0</td>\n",
              "      <td>70.0</td>\n",
              "      <td>3.0</td>\n",
              "      <td>6.0</td>\n",
              "      <td>1.0</td>\n",
              "      <td>NaN</td>\n",
              "      <td>NaN</td>\n",
              "      <td>68</td>\n",
              "      <td>45</td>\n",
              "      <td>32</td>\n",
              "      <td>17</td>\n",
              "      <td>10.0</td>\n",
              "      <td>0.0</td>\n",
              "      <td>40.0</td>\n",
              "      <td>30.0</td>\n",
              "      <td>4.0</td>\n",
              "      <td>8.0</td>\n",
              "      <td>8.0</td>\n",
              "      <td>9.0</td>\n",
              "      <td>101.0</td>\n",
              "      <td>6.0</td>\n",
              "      <td>7.0</td>\n",
              "      <td>6.0</td>\n",
              "      <td>NaN</td>\n",
              "      <td>NaN</td>\n",
              "      <td>1</td>\n",
              "      <td>2</td>\n",
              "    </tr>\n",
              "    <tr>\n",
              "      <th>1</th>\n",
              "      <td>Leonardo Mayer</td>\n",
              "      <td>Albert Montanes</td>\n",
              "      <td>1</td>\n",
              "      <td>1</td>\n",
              "      <td>3.0</td>\n",
              "      <td>0.0</td>\n",
              "      <td>61</td>\n",
              "      <td>31</td>\n",
              "      <td>39</td>\n",
              "      <td>13</td>\n",
              "      <td>13.0</td>\n",
              "      <td>1.0</td>\n",
              "      <td>13.0</td>\n",
              "      <td>1.0</td>\n",
              "      <td>7.0</td>\n",
              "      <td>14.0</td>\n",
              "      <td>NaN</td>\n",
              "      <td>NaN</td>\n",
              "      <td>80.0</td>\n",
              "      <td>6.0</td>\n",
              "      <td>6.0</td>\n",
              "      <td>6.0</td>\n",
              "      <td>NaN</td>\n",
              "      <td>NaN</td>\n",
              "      <td>60</td>\n",
              "      <td>23</td>\n",
              "      <td>40</td>\n",
              "      <td>9</td>\n",
              "      <td>1.0</td>\n",
              "      <td>4.0</td>\n",
              "      <td>1.0</td>\n",
              "      <td>4.0</td>\n",
              "      <td>0.0</td>\n",
              "      <td>0.0</td>\n",
              "      <td>NaN</td>\n",
              "      <td>NaN</td>\n",
              "      <td>42.0</td>\n",
              "      <td>1.0</td>\n",
              "      <td>3.0</td>\n",
              "      <td>1.0</td>\n",
              "      <td>NaN</td>\n",
              "      <td>NaN</td>\n",
              "      <td>1</td>\n",
              "      <td>2</td>\n",
              "    </tr>\n",
              "    <tr>\n",
              "      <th>2</th>\n",
              "      <td>Marcos Baghdatis</td>\n",
              "      <td>Denis Istomin</td>\n",
              "      <td>1</td>\n",
              "      <td>0</td>\n",
              "      <td>0.0</td>\n",
              "      <td>3.0</td>\n",
              "      <td>52</td>\n",
              "      <td>53</td>\n",
              "      <td>48</td>\n",
              "      <td>20</td>\n",
              "      <td>8.0</td>\n",
              "      <td>4.0</td>\n",
              "      <td>37.0</td>\n",
              "      <td>50.0</td>\n",
              "      <td>1.0</td>\n",
              "      <td>9.0</td>\n",
              "      <td>16.0</td>\n",
              "      <td>23.0</td>\n",
              "      <td>106.0</td>\n",
              "      <td>4.0</td>\n",
              "      <td>5.0</td>\n",
              "      <td>4.0</td>\n",
              "      <td>NaN</td>\n",
              "      <td>NaN</td>\n",
              "      <td>77</td>\n",
              "      <td>57</td>\n",
              "      <td>23</td>\n",
              "      <td>15</td>\n",
              "      <td>9.0</td>\n",
              "      <td>1.0</td>\n",
              "      <td>41.0</td>\n",
              "      <td>41.0</td>\n",
              "      <td>4.0</td>\n",
              "      <td>13.0</td>\n",
              "      <td>12.0</td>\n",
              "      <td>16.0</td>\n",
              "      <td>126.0</td>\n",
              "      <td>6.0</td>\n",
              "      <td>7.0</td>\n",
              "      <td>6.0</td>\n",
              "      <td>NaN</td>\n",
              "      <td>NaN</td>\n",
              "      <td>1</td>\n",
              "      <td>2</td>\n",
              "    </tr>\n",
              "    <tr>\n",
              "      <th>3</th>\n",
              "      <td>Dmitry Tursunov</td>\n",
              "      <td>Michael Russell</td>\n",
              "      <td>1</td>\n",
              "      <td>1</td>\n",
              "      <td>3.0</td>\n",
              "      <td>0.0</td>\n",
              "      <td>53</td>\n",
              "      <td>39</td>\n",
              "      <td>47</td>\n",
              "      <td>24</td>\n",
              "      <td>8.0</td>\n",
              "      <td>6.0</td>\n",
              "      <td>8.0</td>\n",
              "      <td>6.0</td>\n",
              "      <td>6.0</td>\n",
              "      <td>9.0</td>\n",
              "      <td>NaN</td>\n",
              "      <td>NaN</td>\n",
              "      <td>104.0</td>\n",
              "      <td>6.0</td>\n",
              "      <td>6.0</td>\n",
              "      <td>6.0</td>\n",
              "      <td>NaN</td>\n",
              "      <td>NaN</td>\n",
              "      <td>50</td>\n",
              "      <td>24</td>\n",
              "      <td>50</td>\n",
              "      <td>19</td>\n",
              "      <td>1.0</td>\n",
              "      <td>8.0</td>\n",
              "      <td>1.0</td>\n",
              "      <td>8.0</td>\n",
              "      <td>1.0</td>\n",
              "      <td>7.0</td>\n",
              "      <td>NaN</td>\n",
              "      <td>NaN</td>\n",
              "      <td>79.0</td>\n",
              "      <td>2.0</td>\n",
              "      <td>2.0</td>\n",
              "      <td>3.0</td>\n",
              "      <td>NaN</td>\n",
              "      <td>NaN</td>\n",
              "      <td>1</td>\n",
              "      <td>2</td>\n",
              "    </tr>\n",
              "    <tr>\n",
              "      <th>4</th>\n",
              "      <td>Juan Monaco</td>\n",
              "      <td>Ernests Gulbis</td>\n",
              "      <td>1</td>\n",
              "      <td>0</td>\n",
              "      <td>1.0</td>\n",
              "      <td>3.0</td>\n",
              "      <td>76</td>\n",
              "      <td>63</td>\n",
              "      <td>24</td>\n",
              "      <td>12</td>\n",
              "      <td>0.0</td>\n",
              "      <td>4.0</td>\n",
              "      <td>16.0</td>\n",
              "      <td>35.0</td>\n",
              "      <td>3.0</td>\n",
              "      <td>12.0</td>\n",
              "      <td>9.0</td>\n",
              "      <td>13.0</td>\n",
              "      <td>128.0</td>\n",
              "      <td>6.0</td>\n",
              "      <td>4.0</td>\n",
              "      <td>6.0</td>\n",
              "      <td>2.0</td>\n",
              "      <td>NaN</td>\n",
              "      <td>53</td>\n",
              "      <td>59</td>\n",
              "      <td>47</td>\n",
              "      <td>32</td>\n",
              "      <td>17.0</td>\n",
              "      <td>11.0</td>\n",
              "      <td>59.0</td>\n",
              "      <td>79.0</td>\n",
              "      <td>3.0</td>\n",
              "      <td>5.0</td>\n",
              "      <td>16.0</td>\n",
              "      <td>28.0</td>\n",
              "      <td>127.0</td>\n",
              "      <td>1.0</td>\n",
              "      <td>6.0</td>\n",
              "      <td>7.0</td>\n",
              "      <td>6.0</td>\n",
              "      <td>NaN</td>\n",
              "      <td>1</td>\n",
              "      <td>2</td>\n",
              "    </tr>\n",
              "  </tbody>\n",
              "</table>\n",
              "</div>"
            ],
            "text/plain": [
              "            Player1          Player2  Round  ...  ST5.2  slam_code  Sex\n",
              "0       Lukas Lacko   Novak Djokovic      1  ...    NaN          1    2\n",
              "1    Leonardo Mayer  Albert Montanes      1  ...    NaN          1    2\n",
              "2  Marcos Baghdatis    Denis Istomin      1  ...    NaN          1    2\n",
              "3   Dmitry Tursunov  Michael Russell      1  ...    NaN          1    2\n",
              "4       Juan Monaco   Ernests Gulbis      1  ...    NaN          1    2\n",
              "\n",
              "[5 rows x 44 columns]"
            ]
          },
          "metadata": {
            "tags": []
          },
          "execution_count": 9
        }
      ]
    },
    {
      "cell_type": "code",
      "metadata": {
        "id": "40INEcO0n68a"
      },
      "source": [
        "tennis_merge = tennis_merge.reindex(\n",
        "    columns = (['Player1','Player2'] + \n",
        "               list([a for a in tennis_merge.columns if a not in ('Player1','Player2')]\n",
        "                   ) \n",
        "              )\n",
        ")"
      ],
      "execution_count": 11,
      "outputs": []
    },
    {
      "cell_type": "code",
      "metadata": {
        "colab": {
          "base_uri": "https://localhost:8080/",
          "height": 487
        },
        "id": "GHXqzJD7n7BV",
        "outputId": "47c94d9b-314c-4664-bb4f-e2529a725f6f"
      },
      "source": [
        "tennis_merge[(tennis_merge['ST3.1'].isnull()) & (tennis_merge['Sex'] == 2)]"
      ],
      "execution_count": 14,
      "outputs": [
        {
          "output_type": "execute_result",
          "data": {
            "text/html": [
              "<div>\n",
              "<style scoped>\n",
              "    .dataframe tbody tr th:only-of-type {\n",
              "        vertical-align: middle;\n",
              "    }\n",
              "\n",
              "    .dataframe tbody tr th {\n",
              "        vertical-align: top;\n",
              "    }\n",
              "\n",
              "    .dataframe thead th {\n",
              "        text-align: right;\n",
              "    }\n",
              "</style>\n",
              "<table border=\"1\" class=\"dataframe\">\n",
              "  <thead>\n",
              "    <tr style=\"text-align: right;\">\n",
              "      <th></th>\n",
              "      <th>Player1</th>\n",
              "      <th>Player2</th>\n",
              "      <th>Round</th>\n",
              "      <th>Result</th>\n",
              "      <th>FNL.1</th>\n",
              "      <th>FNL.2</th>\n",
              "      <th>FSP.1</th>\n",
              "      <th>FSW.1</th>\n",
              "      <th>SSP.1</th>\n",
              "      <th>SSW.1</th>\n",
              "      <th>ACE.1</th>\n",
              "      <th>DBF.1</th>\n",
              "      <th>WNR.1</th>\n",
              "      <th>UFE.1</th>\n",
              "      <th>BPC.1</th>\n",
              "      <th>BPW.1</th>\n",
              "      <th>NPA.1</th>\n",
              "      <th>NPW.1</th>\n",
              "      <th>TPW.1</th>\n",
              "      <th>ST1.1</th>\n",
              "      <th>ST2.1</th>\n",
              "      <th>ST3.1</th>\n",
              "      <th>ST4.1</th>\n",
              "      <th>ST5.1</th>\n",
              "      <th>FSP.2</th>\n",
              "      <th>FSW.2</th>\n",
              "      <th>SSP.2</th>\n",
              "      <th>SSW.2</th>\n",
              "      <th>ACE.2</th>\n",
              "      <th>DBF.2</th>\n",
              "      <th>WNR.2</th>\n",
              "      <th>UFE.2</th>\n",
              "      <th>BPC.2</th>\n",
              "      <th>BPW.2</th>\n",
              "      <th>NPA.2</th>\n",
              "      <th>NPW.2</th>\n",
              "      <th>TPW.2</th>\n",
              "      <th>ST1.2</th>\n",
              "      <th>ST2.2</th>\n",
              "      <th>ST3.2</th>\n",
              "      <th>ST4.2</th>\n",
              "      <th>ST5.2</th>\n",
              "      <th>slam_code</th>\n",
              "      <th>Sex</th>\n",
              "    </tr>\n",
              "  </thead>\n",
              "  <tbody>\n",
              "    <tr>\n",
              "      <th>7</th>\n",
              "      <td>Fabio Fognini</td>\n",
              "      <td>Alex Bogomolov Jr.</td>\n",
              "      <td>1</td>\n",
              "      <td>1</td>\n",
              "      <td>2.0</td>\n",
              "      <td>0.0</td>\n",
              "      <td>47</td>\n",
              "      <td>18</td>\n",
              "      <td>53</td>\n",
              "      <td>15</td>\n",
              "      <td>3.0</td>\n",
              "      <td>4.0</td>\n",
              "      <td>21.0</td>\n",
              "      <td>31.0</td>\n",
              "      <td>6.0</td>\n",
              "      <td>20.0</td>\n",
              "      <td>6.0</td>\n",
              "      <td>9.0</td>\n",
              "      <td>78.0</td>\n",
              "      <td>6.0</td>\n",
              "      <td>6.0</td>\n",
              "      <td>NaN</td>\n",
              "      <td>NaN</td>\n",
              "      <td>NaN</td>\n",
              "      <td>54</td>\n",
              "      <td>26</td>\n",
              "      <td>46</td>\n",
              "      <td>13</td>\n",
              "      <td>0.0</td>\n",
              "      <td>11.0</td>\n",
              "      <td>11.0</td>\n",
              "      <td>46.0</td>\n",
              "      <td>2.0</td>\n",
              "      <td>6.0</td>\n",
              "      <td>8.0</td>\n",
              "      <td>12.0</td>\n",
              "      <td>61.0</td>\n",
              "      <td>3.0</td>\n",
              "      <td>2.0</td>\n",
              "      <td>NaN</td>\n",
              "      <td>NaN</td>\n",
              "      <td>NaN</td>\n",
              "      <td>1</td>\n",
              "      <td>2</td>\n",
              "    </tr>\n",
              "    <tr>\n",
              "      <th>15</th>\n",
              "      <td>Stanislas Wawrinka</td>\n",
              "      <td>Andrey Golubev</td>\n",
              "      <td>1</td>\n",
              "      <td>1</td>\n",
              "      <td>2.0</td>\n",
              "      <td>0.0</td>\n",
              "      <td>63</td>\n",
              "      <td>20</td>\n",
              "      <td>37</td>\n",
              "      <td>6</td>\n",
              "      <td>4.0</td>\n",
              "      <td>1.0</td>\n",
              "      <td>23.0</td>\n",
              "      <td>11.0</td>\n",
              "      <td>4.0</td>\n",
              "      <td>9.0</td>\n",
              "      <td>13.0</td>\n",
              "      <td>14.0</td>\n",
              "      <td>54.0</td>\n",
              "      <td>6.0</td>\n",
              "      <td>4.0</td>\n",
              "      <td>NaN</td>\n",
              "      <td>NaN</td>\n",
              "      <td>NaN</td>\n",
              "      <td>64</td>\n",
              "      <td>18</td>\n",
              "      <td>36</td>\n",
              "      <td>10</td>\n",
              "      <td>0.0</td>\n",
              "      <td>0.0</td>\n",
              "      <td>8.0</td>\n",
              "      <td>15.0</td>\n",
              "      <td>1.0</td>\n",
              "      <td>2.0</td>\n",
              "      <td>6.0</td>\n",
              "      <td>12.0</td>\n",
              "      <td>37.0</td>\n",
              "      <td>4.0</td>\n",
              "      <td>1.0</td>\n",
              "      <td>NaN</td>\n",
              "      <td>NaN</td>\n",
              "      <td>NaN</td>\n",
              "      <td>1</td>\n",
              "      <td>2</td>\n",
              "    </tr>\n",
              "    <tr>\n",
              "      <th>24</th>\n",
              "      <td>Guillermo Garcia-Lopez</td>\n",
              "      <td>Tommy Haas</td>\n",
              "      <td>1</td>\n",
              "      <td>1</td>\n",
              "      <td>2.0</td>\n",
              "      <td>0.0</td>\n",
              "      <td>58</td>\n",
              "      <td>27</td>\n",
              "      <td>42</td>\n",
              "      <td>11</td>\n",
              "      <td>7.0</td>\n",
              "      <td>3.0</td>\n",
              "      <td>19.0</td>\n",
              "      <td>9.0</td>\n",
              "      <td>4.0</td>\n",
              "      <td>4.0</td>\n",
              "      <td>3.0</td>\n",
              "      <td>5.0</td>\n",
              "      <td>65.0</td>\n",
              "      <td>7.0</td>\n",
              "      <td>5.0</td>\n",
              "      <td>NaN</td>\n",
              "      <td>NaN</td>\n",
              "      <td>NaN</td>\n",
              "      <td>52</td>\n",
              "      <td>22</td>\n",
              "      <td>48</td>\n",
              "      <td>11</td>\n",
              "      <td>4.0</td>\n",
              "      <td>7.0</td>\n",
              "      <td>18.0</td>\n",
              "      <td>35.0</td>\n",
              "      <td>1.0</td>\n",
              "      <td>2.0</td>\n",
              "      <td>10.0</td>\n",
              "      <td>10.0</td>\n",
              "      <td>55.0</td>\n",
              "      <td>5.0</td>\n",
              "      <td>2.0</td>\n",
              "      <td>NaN</td>\n",
              "      <td>NaN</td>\n",
              "      <td>NaN</td>\n",
              "      <td>1</td>\n",
              "      <td>2</td>\n",
              "    </tr>\n",
              "    <tr>\n",
              "      <th>40</th>\n",
              "      <td>Martin Klizan</td>\n",
              "      <td>John Isner</td>\n",
              "      <td>1</td>\n",
              "      <td>1</td>\n",
              "      <td>2.0</td>\n",
              "      <td>0.0</td>\n",
              "      <td>54</td>\n",
              "      <td>25</td>\n",
              "      <td>46</td>\n",
              "      <td>21</td>\n",
              "      <td>9.0</td>\n",
              "      <td>2.0</td>\n",
              "      <td>27.0</td>\n",
              "      <td>10.0</td>\n",
              "      <td>2.0</td>\n",
              "      <td>5.0</td>\n",
              "      <td>1.0</td>\n",
              "      <td>3.0</td>\n",
              "      <td>71.0</td>\n",
              "      <td>6.0</td>\n",
              "      <td>7.0</td>\n",
              "      <td>NaN</td>\n",
              "      <td>NaN</td>\n",
              "      <td>NaN</td>\n",
              "      <td>78</td>\n",
              "      <td>36</td>\n",
              "      <td>22</td>\n",
              "      <td>6</td>\n",
              "      <td>10.0</td>\n",
              "      <td>0.0</td>\n",
              "      <td>23.0</td>\n",
              "      <td>23.0</td>\n",
              "      <td>0.0</td>\n",
              "      <td>3.0</td>\n",
              "      <td>5.0</td>\n",
              "      <td>10.0</td>\n",
              "      <td>52.0</td>\n",
              "      <td>2.0</td>\n",
              "      <td>6.0</td>\n",
              "      <td>NaN</td>\n",
              "      <td>NaN</td>\n",
              "      <td>NaN</td>\n",
              "      <td>1</td>\n",
              "      <td>2</td>\n",
              "    </tr>\n",
              "    <tr>\n",
              "      <th>63</th>\n",
              "      <td>Rafael Nadal</td>\n",
              "      <td>Bernard Tomic</td>\n",
              "      <td>1</td>\n",
              "      <td>1</td>\n",
              "      <td>1.0</td>\n",
              "      <td>0.0</td>\n",
              "      <td>62</td>\n",
              "      <td>14</td>\n",
              "      <td>38</td>\n",
              "      <td>6</td>\n",
              "      <td>5.0</td>\n",
              "      <td>1.0</td>\n",
              "      <td>13.0</td>\n",
              "      <td>5.0</td>\n",
              "      <td>1.0</td>\n",
              "      <td>1.0</td>\n",
              "      <td>5.0</td>\n",
              "      <td>5.0</td>\n",
              "      <td>30.0</td>\n",
              "      <td>6.0</td>\n",
              "      <td>NaN</td>\n",
              "      <td>NaN</td>\n",
              "      <td>NaN</td>\n",
              "      <td>NaN</td>\n",
              "      <td>71</td>\n",
              "      <td>15</td>\n",
              "      <td>29</td>\n",
              "      <td>3</td>\n",
              "      <td>3.0</td>\n",
              "      <td>1.0</td>\n",
              "      <td>13.0</td>\n",
              "      <td>7.0</td>\n",
              "      <td>0.0</td>\n",
              "      <td>0.0</td>\n",
              "      <td>3.0</td>\n",
              "      <td>5.0</td>\n",
              "      <td>24.0</td>\n",
              "      <td>4.0</td>\n",
              "      <td>NaN</td>\n",
              "      <td>NaN</td>\n",
              "      <td>NaN</td>\n",
              "      <td>NaN</td>\n",
              "      <td>1</td>\n",
              "      <td>2</td>\n",
              "    </tr>\n",
              "    <tr>\n",
              "      <th>59</th>\n",
              "      <td>Alejandro Falla</td>\n",
              "      <td>Grigor Dimitrov</td>\n",
              "      <td>1</td>\n",
              "      <td>0</td>\n",
              "      <td>0.0</td>\n",
              "      <td>2.0</td>\n",
              "      <td>54</td>\n",
              "      <td>10</td>\n",
              "      <td>46</td>\n",
              "      <td>7</td>\n",
              "      <td>1.0</td>\n",
              "      <td>1.0</td>\n",
              "      <td>6.0</td>\n",
              "      <td>15.0</td>\n",
              "      <td>1.0</td>\n",
              "      <td>5.0</td>\n",
              "      <td>5.0</td>\n",
              "      <td>7.0</td>\n",
              "      <td>38.0</td>\n",
              "      <td>4.0</td>\n",
              "      <td>0.0</td>\n",
              "      <td>NaN</td>\n",
              "      <td>NaN</td>\n",
              "      <td>NaN</td>\n",
              "      <td>59</td>\n",
              "      <td>20</td>\n",
              "      <td>41</td>\n",
              "      <td>10</td>\n",
              "      <td>2.0</td>\n",
              "      <td>1.0</td>\n",
              "      <td>14.0</td>\n",
              "      <td>16.0</td>\n",
              "      <td>2.0</td>\n",
              "      <td>2.0</td>\n",
              "      <td>6.0</td>\n",
              "      <td>7.0</td>\n",
              "      <td>48.0</td>\n",
              "      <td>6.0</td>\n",
              "      <td>1.0</td>\n",
              "      <td>NaN</td>\n",
              "      <td>NaN</td>\n",
              "      <td>NaN</td>\n",
              "      <td>2</td>\n",
              "      <td>2</td>\n",
              "    </tr>\n",
              "    <tr>\n",
              "      <th>91</th>\n",
              "      <td>Dmitry Tursunov</td>\n",
              "      <td>Victor Hanescu</td>\n",
              "      <td>2</td>\n",
              "      <td>0</td>\n",
              "      <td>0.0</td>\n",
              "      <td>2.0</td>\n",
              "      <td>59</td>\n",
              "      <td>31</td>\n",
              "      <td>41</td>\n",
              "      <td>9</td>\n",
              "      <td>6.0</td>\n",
              "      <td>4.0</td>\n",
              "      <td>25.0</td>\n",
              "      <td>15.0</td>\n",
              "      <td>2.0</td>\n",
              "      <td>2.0</td>\n",
              "      <td>6.0</td>\n",
              "      <td>9.0</td>\n",
              "      <td>62.0</td>\n",
              "      <td>4.0</td>\n",
              "      <td>6.0</td>\n",
              "      <td>NaN</td>\n",
              "      <td>NaN</td>\n",
              "      <td>NaN</td>\n",
              "      <td>67</td>\n",
              "      <td>33</td>\n",
              "      <td>33</td>\n",
              "      <td>9</td>\n",
              "      <td>6.0</td>\n",
              "      <td>0.0</td>\n",
              "      <td>24.0</td>\n",
              "      <td>10.0</td>\n",
              "      <td>3.0</td>\n",
              "      <td>5.0</td>\n",
              "      <td>5.0</td>\n",
              "      <td>6.0</td>\n",
              "      <td>66.0</td>\n",
              "      <td>6.0</td>\n",
              "      <td>6.0</td>\n",
              "      <td>NaN</td>\n",
              "      <td>NaN</td>\n",
              "      <td>NaN</td>\n",
              "      <td>2</td>\n",
              "      <td>2</td>\n",
              "    </tr>\n",
              "    <tr>\n",
              "      <th>65</th>\n",
              "      <td>Guillaume Rufin</td>\n",
              "      <td>Dmitry Tursunov</td>\n",
              "      <td>1</td>\n",
              "      <td>0</td>\n",
              "      <td>0.0</td>\n",
              "      <td>2.0</td>\n",
              "      <td>43</td>\n",
              "      <td>14</td>\n",
              "      <td>57</td>\n",
              "      <td>12</td>\n",
              "      <td>4.0</td>\n",
              "      <td>1.0</td>\n",
              "      <td>NaN</td>\n",
              "      <td>NaN</td>\n",
              "      <td>1.0</td>\n",
              "      <td>8.0</td>\n",
              "      <td>NaN</td>\n",
              "      <td>NaN</td>\n",
              "      <td>48.0</td>\n",
              "      <td>6.0</td>\n",
              "      <td>1.0</td>\n",
              "      <td>NaN</td>\n",
              "      <td>NaN</td>\n",
              "      <td>NaN</td>\n",
              "      <td>58</td>\n",
              "      <td>24</td>\n",
              "      <td>42</td>\n",
              "      <td>13</td>\n",
              "      <td>3.0</td>\n",
              "      <td>3.0</td>\n",
              "      <td>NaN</td>\n",
              "      <td>NaN</td>\n",
              "      <td>1.0</td>\n",
              "      <td>2.0</td>\n",
              "      <td>NaN</td>\n",
              "      <td>NaN</td>\n",
              "      <td>51.0</td>\n",
              "      <td>7.0</td>\n",
              "      <td>1.0</td>\n",
              "      <td>NaN</td>\n",
              "      <td>NaN</td>\n",
              "      <td>NaN</td>\n",
              "      <td>4</td>\n",
              "      <td>2</td>\n",
              "    </tr>\n",
              "  </tbody>\n",
              "</table>\n",
              "</div>"
            ],
            "text/plain": [
              "                   Player1             Player2  Round  ...  ST5.2  slam_code  Sex\n",
              "7            Fabio Fognini  Alex Bogomolov Jr.      1  ...    NaN          1    2\n",
              "15      Stanislas Wawrinka      Andrey Golubev      1  ...    NaN          1    2\n",
              "24  Guillermo Garcia-Lopez          Tommy Haas      1  ...    NaN          1    2\n",
              "40           Martin Klizan          John Isner      1  ...    NaN          1    2\n",
              "63            Rafael Nadal       Bernard Tomic      1  ...    NaN          1    2\n",
              "59         Alejandro Falla     Grigor Dimitrov      1  ...    NaN          2    2\n",
              "91         Dmitry Tursunov      Victor Hanescu      2  ...    NaN          2    2\n",
              "65         Guillaume Rufin     Dmitry Tursunov      1  ...    NaN          4    2\n",
              "\n",
              "[8 rows x 44 columns]"
            ]
          },
          "metadata": {
            "tags": []
          },
          "execution_count": 14
        }
      ]
    },
    {
      "cell_type": "code",
      "metadata": {
        "colab": {
          "base_uri": "https://localhost:8080/",
          "height": 213
        },
        "id": "71_gxDwMn7Eg",
        "outputId": "a1fcf7ab-36bf-4299-a983-5bfe664f6a60"
      },
      "source": [
        "#Abandoned games women\n",
        "tennis_merge[(tennis_merge['ST2.1'].isnull()) & (tennis_merge['Sex'] == 1)]"
      ],
      "execution_count": 15,
      "outputs": [
        {
          "output_type": "execute_result",
          "data": {
            "text/html": [
              "<div>\n",
              "<style scoped>\n",
              "    .dataframe tbody tr th:only-of-type {\n",
              "        vertical-align: middle;\n",
              "    }\n",
              "\n",
              "    .dataframe tbody tr th {\n",
              "        vertical-align: top;\n",
              "    }\n",
              "\n",
              "    .dataframe thead th {\n",
              "        text-align: right;\n",
              "    }\n",
              "</style>\n",
              "<table border=\"1\" class=\"dataframe\">\n",
              "  <thead>\n",
              "    <tr style=\"text-align: right;\">\n",
              "      <th></th>\n",
              "      <th>Player1</th>\n",
              "      <th>Player2</th>\n",
              "      <th>Round</th>\n",
              "      <th>Result</th>\n",
              "      <th>FNL.1</th>\n",
              "      <th>FNL.2</th>\n",
              "      <th>FSP.1</th>\n",
              "      <th>FSW.1</th>\n",
              "      <th>SSP.1</th>\n",
              "      <th>SSW.1</th>\n",
              "      <th>ACE.1</th>\n",
              "      <th>DBF.1</th>\n",
              "      <th>WNR.1</th>\n",
              "      <th>UFE.1</th>\n",
              "      <th>BPC.1</th>\n",
              "      <th>BPW.1</th>\n",
              "      <th>NPA.1</th>\n",
              "      <th>NPW.1</th>\n",
              "      <th>TPW.1</th>\n",
              "      <th>ST1.1</th>\n",
              "      <th>ST2.1</th>\n",
              "      <th>ST3.1</th>\n",
              "      <th>ST4.1</th>\n",
              "      <th>ST5.1</th>\n",
              "      <th>FSP.2</th>\n",
              "      <th>FSW.2</th>\n",
              "      <th>SSP.2</th>\n",
              "      <th>SSW.2</th>\n",
              "      <th>ACE.2</th>\n",
              "      <th>DBF.2</th>\n",
              "      <th>WNR.2</th>\n",
              "      <th>UFE.2</th>\n",
              "      <th>BPC.2</th>\n",
              "      <th>BPW.2</th>\n",
              "      <th>NPA.2</th>\n",
              "      <th>NPW.2</th>\n",
              "      <th>TPW.2</th>\n",
              "      <th>ST1.2</th>\n",
              "      <th>ST2.2</th>\n",
              "      <th>ST3.2</th>\n",
              "      <th>ST4.2</th>\n",
              "      <th>ST5.2</th>\n",
              "      <th>slam_code</th>\n",
              "      <th>Sex</th>\n",
              "    </tr>\n",
              "  </thead>\n",
              "  <tbody>\n",
              "    <tr>\n",
              "      <th>44</th>\n",
              "      <td>Alize Cornet</td>\n",
              "      <td>Polona Hercog</td>\n",
              "      <td>1</td>\n",
              "      <td>0</td>\n",
              "      <td>NaN</td>\n",
              "      <td>NaN</td>\n",
              "      <td>75</td>\n",
              "      <td>3</td>\n",
              "      <td>25</td>\n",
              "      <td>1</td>\n",
              "      <td>1.0</td>\n",
              "      <td>NaN</td>\n",
              "      <td>2.0</td>\n",
              "      <td>0.0</td>\n",
              "      <td>NaN</td>\n",
              "      <td>NaN</td>\n",
              "      <td>1.0</td>\n",
              "      <td>1.0</td>\n",
              "      <td>5.0</td>\n",
              "      <td>NaN</td>\n",
              "      <td>NaN</td>\n",
              "      <td>NaN</td>\n",
              "      <td>NaN</td>\n",
              "      <td>NaN</td>\n",
              "      <td>0</td>\n",
              "      <td>0</td>\n",
              "      <td>100</td>\n",
              "      <td>1</td>\n",
              "      <td>0.0</td>\n",
              "      <td>NaN</td>\n",
              "      <td>1.0</td>\n",
              "      <td>1.0</td>\n",
              "      <td>NaN</td>\n",
              "      <td>NaN</td>\n",
              "      <td>0.0</td>\n",
              "      <td>0.0</td>\n",
              "      <td>1.0</td>\n",
              "      <td>NaN</td>\n",
              "      <td>NaN</td>\n",
              "      <td>NaN</td>\n",
              "      <td>NaN</td>\n",
              "      <td>NaN</td>\n",
              "      <td>1</td>\n",
              "      <td>1</td>\n",
              "    </tr>\n",
              "    <tr>\n",
              "      <th>76</th>\n",
              "      <td>Ashleigh Barty</td>\n",
              "      <td>Maria Kirilenko</td>\n",
              "      <td>2</td>\n",
              "      <td>0</td>\n",
              "      <td>0.0</td>\n",
              "      <td>1.0</td>\n",
              "      <td>61</td>\n",
              "      <td>6</td>\n",
              "      <td>39</td>\n",
              "      <td>4</td>\n",
              "      <td>0.0</td>\n",
              "      <td>NaN</td>\n",
              "      <td>9.0</td>\n",
              "      <td>5.0</td>\n",
              "      <td>1.0</td>\n",
              "      <td>1.0</td>\n",
              "      <td>2.0</td>\n",
              "      <td>2.0</td>\n",
              "      <td>16.0</td>\n",
              "      <td>3.0</td>\n",
              "      <td>NaN</td>\n",
              "      <td>NaN</td>\n",
              "      <td>NaN</td>\n",
              "      <td>NaN</td>\n",
              "      <td>75</td>\n",
              "      <td>9</td>\n",
              "      <td>25</td>\n",
              "      <td>1</td>\n",
              "      <td>1.0</td>\n",
              "      <td>NaN</td>\n",
              "      <td>7.0</td>\n",
              "      <td>4.0</td>\n",
              "      <td>1.0</td>\n",
              "      <td>1.0</td>\n",
              "      <td>5.0</td>\n",
              "      <td>6.0</td>\n",
              "      <td>18.0</td>\n",
              "      <td>3.0</td>\n",
              "      <td>NaN</td>\n",
              "      <td>NaN</td>\n",
              "      <td>NaN</td>\n",
              "      <td>NaN</td>\n",
              "      <td>2</td>\n",
              "      <td>1</td>\n",
              "    </tr>\n",
              "    <tr>\n",
              "      <th>77</th>\n",
              "      <td>Kaia Kanepi</td>\n",
              "      <td>Stefanie Voegele</td>\n",
              "      <td>2</td>\n",
              "      <td>1</td>\n",
              "      <td>1.0</td>\n",
              "      <td>0.0</td>\n",
              "      <td>71</td>\n",
              "      <td>20</td>\n",
              "      <td>29</td>\n",
              "      <td>5</td>\n",
              "      <td>4.0</td>\n",
              "      <td>2.0</td>\n",
              "      <td>16.0</td>\n",
              "      <td>15.0</td>\n",
              "      <td>1.0</td>\n",
              "      <td>3.0</td>\n",
              "      <td>0.0</td>\n",
              "      <td>4.0</td>\n",
              "      <td>41.0</td>\n",
              "      <td>6.0</td>\n",
              "      <td>NaN</td>\n",
              "      <td>NaN</td>\n",
              "      <td>NaN</td>\n",
              "      <td>NaN</td>\n",
              "      <td>58</td>\n",
              "      <td>13</td>\n",
              "      <td>42</td>\n",
              "      <td>9</td>\n",
              "      <td>0.0</td>\n",
              "      <td>1.0</td>\n",
              "      <td>15.0</td>\n",
              "      <td>9.0</td>\n",
              "      <td>1.0</td>\n",
              "      <td>6.0</td>\n",
              "      <td>4.0</td>\n",
              "      <td>6.0</td>\n",
              "      <td>39.0</td>\n",
              "      <td>5.0</td>\n",
              "      <td>NaN</td>\n",
              "      <td>NaN</td>\n",
              "      <td>NaN</td>\n",
              "      <td>NaN</td>\n",
              "      <td>2</td>\n",
              "      <td>1</td>\n",
              "    </tr>\n",
              "  </tbody>\n",
              "</table>\n",
              "</div>"
            ],
            "text/plain": [
              "           Player1           Player2  Round  ...  ST5.2  slam_code  Sex\n",
              "44    Alize Cornet     Polona Hercog      1  ...    NaN          1    1\n",
              "76  Ashleigh Barty   Maria Kirilenko      2  ...    NaN          2    1\n",
              "77     Kaia Kanepi  Stefanie Voegele      2  ...    NaN          2    1\n",
              "\n",
              "[3 rows x 44 columns]"
            ]
          },
          "metadata": {
            "tags": []
          },
          "execution_count": 15
        }
      ]
    },
    {
      "cell_type": "code",
      "metadata": {
        "id": "6DIEAzIfohu_"
      },
      "source": [
        "## Removing abandoned games\n",
        "tennis_merge = tennis_merge[-((tennis_merge['ST3.1'].isnull()) & (tennis_merge['Sex'] == 2))] #For men\n",
        "\n",
        "tennis_merge = tennis_merge[-((tennis_merge['ST2.1'].isnull()) & (tennis_merge['Sex'] == 1))] #For women"
      ],
      "execution_count": 16,
      "outputs": []
    },
    {
      "cell_type": "code",
      "metadata": {
        "id": "WdQET6Cnohyv"
      },
      "source": [
        "## Feature engineering1: Find difference between games won in sets as this would indicate who won the set\n",
        "# If positive: Player 1 wins the set Else Player 2\n",
        "# The value is NaN if the set did not occur, in which case we set it to 0(0 can never occur otherwise)\n",
        "tennis_merge['ST1'] = tennis_merge['ST1.1'] - tennis_merge['ST1.2']\n",
        "tennis_merge['ST2'] = tennis_merge['ST2.1'] - tennis_merge['ST2.2']\n",
        "tennis_merge['ST3'] = tennis_merge['ST3.1'] - tennis_merge['ST3.2']\n",
        "tennis_merge['ST4'] = tennis_merge['ST4.1'] - tennis_merge['ST4.2']\n",
        "tennis_merge['ST5'] = tennis_merge['ST5.1'] - tennis_merge['ST5.2']"
      ],
      "execution_count": 17,
      "outputs": []
    },
    {
      "cell_type": "code",
      "metadata": {
        "id": "rHdaTcj_oh2j"
      },
      "source": [
        "## Replace NaN with 0s\n",
        "tennis_merge['ST3'].fillna(0, inplace=True)\n",
        "tennis_merge['ST4'].fillna(0, inplace=True)\n",
        "tennis_merge['ST5'].fillna(0, inplace=True)"
      ],
      "execution_count": 18,
      "outputs": []
    },
    {
      "cell_type": "code",
      "metadata": {
        "colab": {
          "base_uri": "https://localhost:8080/"
        },
        "id": "RxXkDlX1n7Hm",
        "outputId": "529a27d5-7bc3-4f71-adf8-851a8af962ad"
      },
      "source": [
        "tennis_merge.columns"
      ],
      "execution_count": 19,
      "outputs": [
        {
          "output_type": "execute_result",
          "data": {
            "text/plain": [
              "Index(['Player1', 'Player2', 'Round', 'Result', 'FNL.1', 'FNL.2', 'FSP.1',\n",
              "       'FSW.1', 'SSP.1', 'SSW.1', 'ACE.1', 'DBF.1', 'WNR.1', 'UFE.1', 'BPC.1',\n",
              "       'BPW.1', 'NPA.1', 'NPW.1', 'TPW.1', 'ST1.1', 'ST2.1', 'ST3.1', 'ST4.1',\n",
              "       'ST5.1', 'FSP.2', 'FSW.2', 'SSP.2', 'SSW.2', 'ACE.2', 'DBF.2', 'WNR.2',\n",
              "       'UFE.2', 'BPC.2', 'BPW.2', 'NPA.2', 'NPW.2', 'TPW.2', 'ST1.2', 'ST2.2',\n",
              "       'ST3.2', 'ST4.2', 'ST5.2', 'slam_code', 'Sex', 'ST1', 'ST2', 'ST3',\n",
              "       'ST4', 'ST5'],\n",
              "      dtype='object')"
            ]
          },
          "metadata": {
            "tags": []
          },
          "execution_count": 19
        }
      ]
    },
    {
      "cell_type": "code",
      "metadata": {
        "id": "9FNZIeDAorde"
      },
      "source": [
        "#removing names of players as we aren't considering ranking here\n",
        "# removing set info cause we have created another column\n",
        "# removing Total points won cause there are too many missing values\n",
        "rem_cols = ['Player1','Player2','TPW.1','TPW.2','FNL.1','FNL.2',\n",
        "            'ST1.1','ST2.1','ST3.1','ST4.1','ST5.1',\n",
        "            'ST1.2','ST2.2','ST3.2','ST4.2','ST5.2','ST1','ST2','ST3','ST4','ST5']\n",
        "\n",
        "tennis_feat = tennis_merge.drop(rem_cols,axis  = 1,inplace = False) #removes columns\n",
        "\n",
        "tennis_feat = shuffle(tennis_feat) #shuffles\n",
        "\n",
        "#convert numeric to categorical\n",
        "col_names = ['Round','slam_code','Sex','Result']\n",
        "for col in col_names:\n",
        "    tennis_feat[col] = tennis_feat[col].astype('category',copy=False)\n",
        "    \n",
        "#Train-test split. 30% for test\n",
        "train,test = train_test_split(tennis_feat,test_size = 0.3)"
      ],
      "execution_count": 20,
      "outputs": []
    },
    {
      "cell_type": "code",
      "metadata": {
        "colab": {
          "base_uri": "https://localhost:8080/"
        },
        "id": "RsPHF-5iorg-",
        "outputId": "0f591867-8404-4cc6-ffeb-8d66fd0b9f48"
      },
      "source": [
        "tennis_feat[tennis_feat.columns[:]].isnull().sum().sort_values()"
      ],
      "execution_count": 21,
      "outputs": [
        {
          "output_type": "execute_result",
          "data": {
            "text/plain": [
              "Round          0\n",
              "BPW.2          0\n",
              "BPC.2          0\n",
              "SSW.2          0\n",
              "SSP.2          0\n",
              "FSW.2          0\n",
              "FSP.2          0\n",
              "slam_code      0\n",
              "BPW.1          0\n",
              "BPC.1          0\n",
              "Sex            0\n",
              "SSW.1          0\n",
              "SSP.1          0\n",
              "FSW.1          0\n",
              "Result         0\n",
              "FSP.1          0\n",
              "DBF.2          6\n",
              "DBF.1          6\n",
              "ACE.1         22\n",
              "ACE.2         22\n",
              "NPW.2         82\n",
              "NPW.1         82\n",
              "NPA.2         83\n",
              "NPA.1         83\n",
              "WNR.2        125\n",
              "UFE.1        125\n",
              "UFE.2        125\n",
              "WNR.1        125\n",
              "dtype: int64"
            ]
          },
          "metadata": {
            "tags": []
          },
          "execution_count": 21
        }
      ]
    },
    {
      "cell_type": "code",
      "metadata": {
        "id": "k98G_0DGorn1"
      },
      "source": [
        "\n",
        "#convert numeric to categorical\n",
        "col_names = ['Round','slam_code','Sex','Result']\n",
        "for col in col_names:\n",
        "    tennis_feat[col] = tennis_feat[col].astype('category',copy=False)"
      ],
      "execution_count": 22,
      "outputs": []
    },
    {
      "cell_type": "code",
      "metadata": {
        "colab": {
          "base_uri": "https://localhost:8080/"
        },
        "id": "0nDLSq8Porrb",
        "outputId": "aa7a4013-b2a0-49a5-bc5a-5bfcf4ea0a68"
      },
      "source": [
        "### Imputing mean values for men and women separately\n",
        "## for columns - ACES, Net point won, Net points attempted, Winners hit and Unforced errors\n",
        "## This is because this usually fluctates around the mean value for men's and women's tennis\n",
        "print(\"Median for Winners player 1(MEN)\",tennis_feat[tennis_feat[\"Sex\"] == 2][\"WNR.1\"].median())\n",
        "print(\"Median for Winners player 2(MEN)\",tennis_feat[tennis_feat[\"Sex\"] == 2][\"WNR.2\"].median())\n",
        "\n",
        "print(\"Median for Ace player 1(WOMEN)\",tennis_feat[tennis_feat[\"Sex\"] == 1][\"ACE.1\"].median())\n",
        "print(\"Median for Ace player 2(WOMEN)\",tennis_feat[tennis_feat[\"Sex\"] == 1][\"ACE.2\"].median())\n",
        "\n",
        "print(\"Median for Net points attempted 1(WOMEN)\",tennis_feat[tennis_feat[\"Sex\"] == 1][\"NPA.1\"].median())\n",
        "print(\"Median for Net points attempted 2(WOMEN)\",tennis_feat[tennis_feat[\"Sex\"] == 1][\"NPA.2\"].median())\n",
        "\n",
        "print(\"Median for Net points attempted 1(MEN)\",tennis_feat[tennis_feat[\"Sex\"] == 2][\"NPA.1\"].median())\n",
        "print(\"Median for Net points attempted 2(MEN)\",tennis_feat[tennis_feat[\"Sex\"] == 2][\"NPA.2\"].median())\n",
        "\n",
        "print(\"Median for Net points won 1(WOMEN)\",tennis_feat[tennis_feat[\"Sex\"] == 1][\"NPW.1\"].median())\n",
        "print(\"Median for Net points won 2(WOMEN)\",tennis_feat[tennis_feat[\"Sex\"] == 1][\"NPW.2\"].median())\n",
        "\n",
        "print(\"Median for Net points Won 1(MEN)\",tennis_feat[tennis_feat[\"Sex\"] == 2][\"NPW.1\"].median())\n",
        "print(\"Median for Net points Won 2(MEN)\",tennis_feat[tennis_feat[\"Sex\"] == 2][\"NPW.2\"].median())"
      ],
      "execution_count": 23,
      "outputs": [
        {
          "output_type": "stream",
          "text": [
            "Median for Winners player 1(MEN) 35.0\n",
            "Median for Winners player 2(MEN) 36.0\n",
            "Median for Ace player 1(WOMEN) 2.0\n",
            "Median for Ace player 2(WOMEN) 2.0\n",
            "Median for Net points attempted 1(WOMEN) 9.0\n",
            "Median for Net points attempted 2(WOMEN) 9.0\n",
            "Median for Net points attempted 1(MEN) 17.0\n",
            "Median for Net points attempted 2(MEN) 18.0\n",
            "Median for Net points won 1(WOMEN) 9.5\n",
            "Median for Net points won 2(WOMEN) 9.0\n",
            "Median for Net points Won 1(MEN) 22.0\n",
            "Median for Net points Won 2(MEN) 22.0\n"
          ],
          "name": "stdout"
        }
      ]
    },
    {
      "cell_type": "code",
      "metadata": {
        "id": "BpdXgT3oo7Ok"
      },
      "source": [
        "#src: https://stackoverflow.com/a/21463854\n",
        "tennis_feat[\"NPW.1\"] = tennis_feat[\"NPW.1\"].fillna(round(tennis_feat.groupby(\"Sex\")[\"NPW.1\"].transform(\"median\"),2))\n",
        "tennis_feat[\"NPW.2\"] = tennis_feat[\"NPW.2\"].fillna(round(tennis_feat.groupby(\"Sex\")[\"NPW.2\"].transform(\"median\"),2))\n",
        "\n",
        "tennis_feat[\"NPA.1\"] = tennis_feat[\"NPA.1\"].fillna(tennis_feat.groupby(\"Sex\")[\"NPA.1\"].transform(\"median\"))\n",
        "tennis_feat[\"NPA.2\"] = tennis_feat[\"NPA.2\"].fillna(tennis_feat.groupby(\"Sex\")[\"NPA.2\"].transform(\"median\"))\n",
        "\n",
        "tennis_feat[\"ACE.1\"] = tennis_feat[\"ACE.1\"].fillna(tennis_feat.groupby(\"Sex\")[\"ACE.1\"].transform(\"median\"))\n",
        "tennis_feat[\"ACE.2\"] = tennis_feat[\"ACE.2\"].fillna(tennis_feat.groupby(\"Sex\")[\"ACE.2\"].transform(\"median\"))\n",
        "\n",
        "tennis_feat[\"WNR.1\"] = tennis_feat[\"WNR.1\"].fillna(tennis_feat.groupby(\"Sex\")[\"WNR.1\"].transform(\"median\"))\n",
        "tennis_feat[\"WNR.2\"] = tennis_feat[\"WNR.2\"].fillna(tennis_feat.groupby(\"Sex\")[\"WNR.2\"].transform(\"median\"))\n",
        "\n",
        "tennis_feat[\"DBF.1\"] = tennis_feat[\"DBF.1\"].fillna(tennis_feat.groupby(\"Sex\")[\"DBF.1\"].transform(\"median\"))\n",
        "tennis_feat[\"DBF.2\"] = tennis_feat[\"DBF.2\"].fillna(tennis_feat.groupby(\"Sex\")[\"DBF.2\"].transform(\"median\"))\n",
        "\n",
        "tennis_feat[\"UFE.1\"] = tennis_feat[\"UFE.1\"].fillna(tennis_feat.groupby(\"Sex\")[\"UFE.1\"].transform(\"median\"))\n",
        "tennis_feat[\"UFE.2\"] = tennis_feat[\"UFE.2\"].fillna(tennis_feat.groupby(\"Sex\")[\"UFE.2\"].transform(\"median\"))"
      ],
      "execution_count": 24,
      "outputs": []
    },
    {
      "cell_type": "code",
      "metadata": {
        "colab": {
          "base_uri": "https://localhost:8080/"
        },
        "id": "xTdJS_Eko7S2",
        "outputId": "ecea75fa-b022-4dd4-d0ef-1edb1f111db4"
      },
      "source": [
        "tennis_feat[tennis_feat.columns[:]].isnull().sum().sort_values()\n"
      ],
      "execution_count": 25,
      "outputs": [
        {
          "output_type": "execute_result",
          "data": {
            "text/plain": [
              "Round        0\n",
              "NPW.2        0\n",
              "NPA.2        0\n",
              "BPW.2        0\n",
              "BPC.2        0\n",
              "UFE.2        0\n",
              "WNR.2        0\n",
              "DBF.2        0\n",
              "ACE.2        0\n",
              "SSW.2        0\n",
              "SSP.2        0\n",
              "FSW.2        0\n",
              "FSP.2        0\n",
              "NPW.1        0\n",
              "NPA.1        0\n",
              "BPW.1        0\n",
              "BPC.1        0\n",
              "UFE.1        0\n",
              "WNR.1        0\n",
              "DBF.1        0\n",
              "ACE.1        0\n",
              "SSW.1        0\n",
              "SSP.1        0\n",
              "FSW.1        0\n",
              "FSP.1        0\n",
              "Result       0\n",
              "slam_code    0\n",
              "Sex          0\n",
              "dtype: int64"
            ]
          },
          "metadata": {
            "tags": []
          },
          "execution_count": 25
        }
      ]
    },
    {
      "cell_type": "code",
      "metadata": {
        "colab": {
          "base_uri": "https://localhost:8080/"
        },
        "id": "KkjWY_hBpGzn",
        "outputId": "5ca7e46f-455b-47df-9ab0-c667416be6a0"
      },
      "source": [
        "tennis_feat.select_dtypes(include=[np.number]).columns\n"
      ],
      "execution_count": 26,
      "outputs": [
        {
          "output_type": "execute_result",
          "data": {
            "text/plain": [
              "Index(['FSP.1', 'FSW.1', 'SSP.1', 'SSW.1', 'ACE.1', 'DBF.1', 'WNR.1', 'UFE.1',\n",
              "       'BPC.1', 'BPW.1', 'NPA.1', 'NPW.1', 'FSP.2', 'FSW.2', 'SSP.2', 'SSW.2',\n",
              "       'ACE.2', 'DBF.2', 'WNR.2', 'UFE.2', 'BPC.2', 'BPW.2', 'NPA.2', 'NPW.2'],\n",
              "      dtype='object')"
            ]
          },
          "metadata": {
            "tags": []
          },
          "execution_count": 26
        }
      ]
    },
    {
      "cell_type": "code",
      "metadata": {
        "id": "J2uAPmtkpG3u"
      },
      "source": [
        "tennis_feat.to_csv('Cleansed_data.csv')"
      ],
      "execution_count": 27,
      "outputs": []
    },
    {
      "cell_type": "code",
      "metadata": {
        "colab": {
          "base_uri": "https://localhost:8080/",
          "height": 510
        },
        "id": "ctwNTi77pG-C",
        "outputId": "a55a0ce1-cf7f-4949-b40d-b28b0f78823b"
      },
      "source": [
        "plt.figure(figsize=(8,8))\n",
        "sns_heat = sns.heatmap(tennis_feat.corr(),cmap=\"YlGnBu\")\n",
        "plt.savefig(\"Heatplot.png\")"
      ],
      "execution_count": 28,
      "outputs": [
        {
          "output_type": "display_data",
          "data": {
            "image/png": "[encoded data removed]",
            "text/plain": [
              "<Figure size 576x576 with 2 Axes>"
            ]
          },
          "metadata": {
            "tags": [],
            "needs_background": "light"
          }
        }
      ]
    },
    {
      "cell_type": "code",
      "metadata": {
        "colab": {
          "base_uri": "https://localhost:8080/",
          "height": 437
        },
        "id": "oGcyuOebprB0",
        "outputId": "6da6eb0f-bfca-407e-cbb0-d237ba2f2fbb"
      },
      "source": [
        "Aces_slam = sns.factorplot(x=\"ACE.1\", y=\"Sex\", hue=\"slam_code\", data=tennis_feat, kind=\"box\")\n",
        "plt.savefig(\"Aces.png\")"
      ],
      "execution_count": 29,
      "outputs": [
        {
          "output_type": "stream",
          "text": [
            "/usr/local/lib/python3.7/dist-packages/seaborn/categorical.py:3714: UserWarning: The `factorplot` function has been renamed to `catplot`. The original name will be removed in a future release. Please update your code. Note that the default `kind` in `factorplot` (`'point'`) has changed `'strip'` in `catplot`.\n",
            "  warnings.warn(msg)\n"
          ],
          "name": "stderr"
        },
        {
          "output_type": "display_data",
          "data": {
            "image/png": "[encoded data removed]",
            "text/plain": [
              "<Figure size 420.875x360 with 1 Axes>"
            ]
          },
          "metadata": {
            "tags": [],
            "needs_background": "light"
          }
        }
      ]
    },
    {
      "cell_type": "code",
      "metadata": {
        "colab": {
          "base_uri": "https://localhost:8080/",
          "height": 495
        },
        "id": "Mcchfsk5prHN",
        "outputId": "a28a8671-8818-4f1b-ce90-a6d8178ad4c6"
      },
      "source": [
        "Aces_dist = sns.jointplot(\"ACE.1\", \"ACE.2\", tennis_feat, kind=\"reg\")\n",
        "plt.savefig(\"Aces_dist.png\")"
      ],
      "execution_count": 30,
      "outputs": [
        {
          "output_type": "stream",
          "text": [
            "/usr/local/lib/python3.7/dist-packages/seaborn/_decorators.py:43: FutureWarning: Pass the following variables as keyword args: x, y, data. From version 0.12, the only valid positional argument will be `data`, and passing other arguments without an explicit keyword will result in an error or misinterpretation.\n",
            "  FutureWarning\n"
          ],
          "name": "stderr"
        },
        {
          "output_type": "display_data",
          "data": {
            "image/png": "[encoded data removed]",
            "text/plain": [
              "<Figure size 432x432 with 3 Axes>"
            ]
          },
          "metadata": {
            "tags": [],
            "needs_background": "light"
          }
        }
      ]
    },
    {
      "cell_type": "code",
      "metadata": {
        "colab": {
          "base_uri": "https://localhost:8080/",
          "height": 333
        },
        "id": "qmSJcR-Bp4GI",
        "outputId": "6969d79b-967f-46fd-e22a-3d64b316d810"
      },
      "source": [
        "sns.distplot(tennis_feat['UFE.1'])\n",
        "plt.savefig(\"/Unforced.png\")"
      ],
      "execution_count": 31,
      "outputs": [
        {
          "output_type": "stream",
          "text": [
            "/usr/local/lib/python3.7/dist-packages/seaborn/distributions.py:2557: FutureWarning: `distplot` is a deprecated function and will be removed in a future version. Please adapt your code to use either `displot` (a figure-level function with similar flexibility) or `histplot` (an axes-level function for histograms).\n",
            "  warnings.warn(msg, FutureWarning)\n"
          ],
          "name": "stderr"
        },
        {
          "output_type": "display_data",
          "data": {
            "image/png": "[encoded data removed]",
            "text/plain": [
              "<Figure size 432x288 with 1 Axes>"
            ]
          },
          "metadata": {
            "tags": [],
            "needs_background": "light"
          }
        }
      ]
    },
    {
      "cell_type": "code",
      "metadata": {
        "colab": {
          "base_uri": "https://localhost:8080/",
          "height": 495
        },
        "id": "_TsN0tRHp8Fk",
        "outputId": "ecc41606-5f55-4c16-8879-dea462fe3a91"
      },
      "source": [
        "sns.jointplot(tennis_feat['WNR.1'],tennis_feat['WNR.2'])\n",
        "plt.savefig(\"Winners_comp.png\")"
      ],
      "execution_count": 32,
      "outputs": [
        {
          "output_type": "stream",
          "text": [
            "/usr/local/lib/python3.7/dist-packages/seaborn/_decorators.py:43: FutureWarning: Pass the following variables as keyword args: x, y. From version 0.12, the only valid positional argument will be `data`, and passing other arguments without an explicit keyword will result in an error or misinterpretation.\n",
            "  FutureWarning\n"
          ],
          "name": "stderr"
        },
        {
          "output_type": "display_data",
          "data": {
            "image/png": "[encoded data removed]",
            "text/plain": [
              "<Figure size 432x432 with 3 Axes>"
            ]
          },
          "metadata": {
            "tags": [],
            "needs_background": "light"
          }
        }
      ]
    },
    {
      "cell_type": "code",
      "metadata": {
        "id": "uebL5Ivsp8N9"
      },
      "source": [
        "df_desc = tennis_feat.select_dtypes(include = [np.number]).describe()"
      ],
      "execution_count": 33,
      "outputs": []
    },
    {
      "cell_type": "code",
      "metadata": {
        "id": "_0UPunAkqHN_"
      },
      "source": [
        "df_desc.to_csv('Numeric_desription.csv')"
      ],
      "execution_count": 34,
      "outputs": []
    },
    {
      "cell_type": "code",
      "metadata": {
        "id": "ZaStfy-CqQBB"
      },
      "source": [
        "#Feature scaling\n",
        "def scale_matrix(matrix,num_feat,non_num_feat):\n",
        "    scl = StandardScaler()\n",
        "    scl_mat = scl.fit_transform(matrix[num_feat])\n",
        "    temp = np.concatenate((scl_mat,\n",
        "                    matrix[non_num_feat].to_numpy().astype('int')),\n",
        "                   axis = 1)\n",
        "#     temp = temp.astype(int)\n",
        "    return temp"
      ],
      "execution_count": 44,
      "outputs": []
    },
    {
      "cell_type": "code",
      "metadata": {
        "id": "BYg-CkkGqYKP"
      },
      "source": [
        "#numeric columns\n",
        "numeric_features = tennis_feat.select_dtypes(include=[np.number]).columns\n",
        "\n",
        "#non-numeric columns\n",
        "non_num_features = tennis_feat.select_dtypes(exclude=[np.number]).columns"
      ],
      "execution_count": 36,
      "outputs": []
    },
    {
      "cell_type": "code",
      "metadata": {
        "id": "jwQECrOUqYOt"
      },
      "source": [
        "Features = list(numeric_features)+(list(non_num_features))"
      ],
      "execution_count": 37,
      "outputs": []
    },
    {
      "cell_type": "code",
      "metadata": {
        "colab": {
          "base_uri": "https://localhost:8080/"
        },
        "id": "73ix_aNIqdMC",
        "outputId": "fb48fb9c-630e-448f-a4bd-e011fcf11176"
      },
      "source": [
        "print(Features)"
      ],
      "execution_count": 38,
      "outputs": [
        {
          "output_type": "stream",
          "text": [
            "['FSP.1', 'FSW.1', 'SSP.1', 'SSW.1', 'ACE.1', 'DBF.1', 'WNR.1', 'UFE.1', 'BPC.1', 'BPW.1', 'NPA.1', 'NPW.1', 'FSP.2', 'FSW.2', 'SSP.2', 'SSW.2', 'ACE.2', 'DBF.2', 'WNR.2', 'UFE.2', 'BPC.2', 'BPW.2', 'NPA.2', 'NPW.2', 'Round', 'Result', 'slam_code', 'Sex']\n"
          ],
          "name": "stdout"
        }
      ]
    },
    {
      "cell_type": "code",
      "metadata": {
        "id": "Urfaizj1qdQX"
      },
      "source": [
        "import pandas as pd\n",
        "tennis_scaled = pd.DataFrame(scale_matrix(tennis_feat,numeric_features,non_num_features))\n"
      ],
      "execution_count": 45,
      "outputs": []
    },
    {
      "cell_type": "code",
      "metadata": {
        "id": "JKHAniTasAcp"
      },
      "source": [
        "tennis_scaled.columns = Features"
      ],
      "execution_count": 47,
      "outputs": []
    },
    {
      "cell_type": "code",
      "metadata": {
        "id": "rHKa_sgJsDF9"
      },
      "source": [
        "col_names = ['Round','slam_code','Sex','Result']\n",
        "for col in col_names:\n",
        "    tennis_scaled[col] = tennis_scaled[col].astype('category',copy=False)"
      ],
      "execution_count": 49,
      "outputs": []
    },
    {
      "cell_type": "code",
      "metadata": {
        "id": "ujL1dJ9hsbJY"
      },
      "source": [
        "tennis_dummy = pd.get_dummies(tennis_scaled)"
      ],
      "execution_count": 50,
      "outputs": []
    },
    {
      "cell_type": "code",
      "metadata": {
        "colab": {
          "base_uri": "https://localhost:8080/"
        },
        "id": "zCkQr6OosdxT",
        "outputId": "ecfa5cdb-1c9c-4b05-c8a5-ead55712e9ca"
      },
      "source": [
        "tennis_dummy.columns"
      ],
      "execution_count": 51,
      "outputs": [
        {
          "output_type": "execute_result",
          "data": {
            "text/plain": [
              "Index(['FSP.1', 'FSW.1', 'SSP.1', 'SSW.1', 'ACE.1', 'DBF.1', 'WNR.1', 'UFE.1',\n",
              "       'BPC.1', 'BPW.1', 'NPA.1', 'NPW.1', 'FSP.2', 'FSW.2', 'SSP.2', 'SSW.2',\n",
              "       'ACE.2', 'DBF.2', 'WNR.2', 'UFE.2', 'BPC.2', 'BPW.2', 'NPA.2', 'NPW.2',\n",
              "       'Round_1.0', 'Round_2.0', 'Round_3.0', 'Round_4.0', 'Round_5.0',\n",
              "       'Round_6.0', 'Round_7.0', 'Result_0.0', 'Result_1.0', 'slam_code_1.0',\n",
              "       'slam_code_2.0', 'slam_code_3.0', 'slam_code_4.0', 'Sex_1.0',\n",
              "       'Sex_2.0'],\n",
              "      dtype='object')"
            ]
          },
          "metadata": {
            "tags": []
          },
          "execution_count": 51
        }
      ]
    },
    {
      "cell_type": "code",
      "metadata": {
        "colab": {
          "base_uri": "https://localhost:8080/"
        },
        "id": "-Vgd8_9msfC9",
        "outputId": "5445e4d2-6cc1-40fb-a5cb-22930cbeab41"
      },
      "source": [
        "tennis_dummy['Result_0.0'].sum()"
      ],
      "execution_count": 52,
      "outputs": [
        {
          "output_type": "execute_result",
          "data": {
            "text/plain": [
              "473"
            ]
          },
          "metadata": {
            "tags": []
          },
          "execution_count": 52
        }
      ]
    },
    {
      "cell_type": "code",
      "metadata": {
        "id": "mbBRiLPWsfH6"
      },
      "source": [
        "rem_cols_dummy = ['Result_0.0','Sex_2.0','slam_code_1.0','slam_code_2.0',\n",
        "                  'slam_code_3.0','slam_code_4.0']\n",
        "\n",
        "tennis_final = tennis_dummy.drop(rem_cols_dummy,axis  = 1,inplace = False)"
      ],
      "execution_count": 53,
      "outputs": []
    },
    {
      "cell_type": "code",
      "metadata": {
        "colab": {
          "base_uri": "https://localhost:8080/"
        },
        "id": "LdZrzuSEsoRI",
        "outputId": "b4287fd9-b784-4191-fd80-e5f33ab37a20"
      },
      "source": [
        "tennis_final.columns"
      ],
      "execution_count": 54,
      "outputs": [
        {
          "output_type": "execute_result",
          "data": {
            "text/plain": [
              "Index(['FSP.1', 'FSW.1', 'SSP.1', 'SSW.1', 'ACE.1', 'DBF.1', 'WNR.1', 'UFE.1',\n",
              "       'BPC.1', 'BPW.1', 'NPA.1', 'NPW.1', 'FSP.2', 'FSW.2', 'SSP.2', 'SSW.2',\n",
              "       'ACE.2', 'DBF.2', 'WNR.2', 'UFE.2', 'BPC.2', 'BPW.2', 'NPA.2', 'NPW.2',\n",
              "       'Round_1.0', 'Round_2.0', 'Round_3.0', 'Round_4.0', 'Round_5.0',\n",
              "       'Round_6.0', 'Round_7.0', 'Result_1.0', 'Sex_1.0'],\n",
              "      dtype='object')"
            ]
          },
          "metadata": {
            "tags": []
          },
          "execution_count": 54
        }
      ]
    },
    {
      "cell_type": "code",
      "metadata": {
        "id": "tmGfmC_5ssBQ"
      },
      "source": [
        "#Train-test split. 30% for test\n",
        "train_valid,test = train_test_split(tennis_final,test_size = 0.3,random_state=12345)\n",
        "train,valid = train_test_split(train_valid,test_size = 0.3,random_state=12345)"
      ],
      "execution_count": 56,
      "outputs": []
    },
    {
      "cell_type": "code",
      "metadata": {
        "id": "UiWKqwdbsvYP"
      },
      "source": [
        "Xtrain = train.iloc[:, train.columns != \"Result_1.0\"]\n",
        "ytrain = train.iloc[:, train.columns == \"Result_1.0\"]\n",
        "\n",
        "Xvalid = valid.iloc[:, valid.columns != \"Result_1.0\"]\n",
        "yvalid = valid.iloc[:, valid.columns == \"Result_1.0\"]\n",
        "\n",
        "Xtest = test.iloc[:, test.columns != \"Result_1.0\"]\n",
        "ytest = test.iloc[:, test.columns == \"Result_1.0\"]"
      ],
      "execution_count": 57,
      "outputs": []
    },
    {
      "cell_type": "code",
      "metadata": {
        "colab": {
          "base_uri": "https://localhost:8080/"
        },
        "id": "uC_ebtbHsyGp",
        "outputId": "3aa2f0cf-2dc9-414b-a037-83ab6a9e4a7f"
      },
      "source": [
        "Xtrain.columns"
      ],
      "execution_count": 58,
      "outputs": [
        {
          "output_type": "execute_result",
          "data": {
            "text/plain": [
              "Index(['FSP.1', 'FSW.1', 'SSP.1', 'SSW.1', 'ACE.1', 'DBF.1', 'WNR.1', 'UFE.1',\n",
              "       'BPC.1', 'BPW.1', 'NPA.1', 'NPW.1', 'FSP.2', 'FSW.2', 'SSP.2', 'SSW.2',\n",
              "       'ACE.2', 'DBF.2', 'WNR.2', 'UFE.2', 'BPC.2', 'BPW.2', 'NPA.2', 'NPW.2',\n",
              "       'Round_1.0', 'Round_2.0', 'Round_3.0', 'Round_4.0', 'Round_5.0',\n",
              "       'Round_6.0', 'Round_7.0', 'Sex_1.0'],\n",
              "      dtype='object')"
            ]
          },
          "metadata": {
            "tags": []
          },
          "execution_count": 58
        }
      ]
    },
    {
      "cell_type": "code",
      "metadata": {
        "id": "GFdDHV8vs1Id"
      },
      "source": [
        "Xtrain = Xtrain.to_numpy()\n",
        "Xvalid = Xvalid.to_numpy()\n",
        "Xtest = Xtest.to_numpy()\n",
        "ytrain = np.ravel(ytrain.to_numpy())\n",
        "yvalid = np.ravel(yvalid.to_numpy())\n",
        "ytest = np.ravel(ytest.to_numpy())"
      ],
      "execution_count": 63,
      "outputs": []
    },
    {
      "cell_type": "code",
      "metadata": {
        "id": "GpOBP0vHtJ7Y"
      },
      "source": [
        "XCross = np.concatenate((Xtrain,Xvalid))\n",
        "yCross = np.concatenate((ytrain,yvalid))"
      ],
      "execution_count": 64,
      "outputs": []
    },
    {
      "cell_type": "markdown",
      "metadata": {
        "id": "_yAZxfOhtNCp"
      },
      "source": [
        "## ***KNN***\n"
      ]
    },
    {
      "cell_type": "code",
      "metadata": {
        "id": "3WFwpf0etRs-"
      },
      "source": [
        "import sklearn.neighbors as neighbors\n",
        "knn=neighbors.KNeighborsClassifier()"
      ],
      "execution_count": 66,
      "outputs": []
    },
    {
      "cell_type": "code",
      "metadata": {
        "colab": {
          "base_uri": "https://localhost:8080/"
        },
        "id": "R9zi8WbKthNf",
        "outputId": "8963a9ef-833f-46c5-d621-87c6499bb8c8"
      },
      "source": [
        "from sklearn.neighbors import KNeighborsClassifier\n",
        "k = KNeighborsClassifier(n_neighbors = 3)\n",
        "k.fit(Xtrain, ytrain)"
      ],
      "execution_count": 67,
      "outputs": [
        {
          "output_type": "execute_result",
          "data": {
            "text/plain": [
              "KNeighborsClassifier(algorithm='auto', leaf_size=30, metric='minkowski',\n",
              "                     metric_params=None, n_jobs=None, n_neighbors=3, p=2,\n",
              "                     weights='uniform')"
            ]
          },
          "metadata": {
            "tags": []
          },
          "execution_count": 67
        }
      ]
    },
    {
      "cell_type": "code",
      "metadata": {
        "id": "oHDWfFFMtj_D"
      },
      "source": [
        "y_pred = k.predict(Xtest)"
      ],
      "execution_count": 68,
      "outputs": []
    },
    {
      "cell_type": "code",
      "metadata": {
        "colab": {
          "base_uri": "https://localhost:8080/"
        },
        "id": "WS4IPFymtkCv",
        "outputId": "b5652350-67f8-4f1b-a9db-a25f70b875fa"
      },
      "source": [
        "(y_pred != ytest).sum()"
      ],
      "execution_count": 69,
      "outputs": [
        {
          "output_type": "execute_result",
          "data": {
            "text/plain": [
              "47"
            ]
          },
          "metadata": {
            "tags": []
          },
          "execution_count": 69
        }
      ]
    },
    {
      "cell_type": "code",
      "metadata": {
        "colab": {
          "base_uri": "https://localhost:8080/"
        },
        "id": "KD8pQJ4EtqfS",
        "outputId": "5fba6db8-a946-47b7-9740-e3ba2fc25fa2"
      },
      "source": [
        "from sklearn.metrics import accuracy_score\n",
        "accuracy_score(ytest, y_pred)"
      ],
      "execution_count": 70,
      "outputs": [
        {
          "output_type": "execute_result",
          "data": {
            "text/plain": [
              "0.8321428571428572"
            ]
          },
          "metadata": {
            "tags": []
          },
          "execution_count": 70
        }
      ]
    },
    {
      "cell_type": "code",
      "metadata": {
        "colab": {
          "base_uri": "https://localhost:8080/"
        },
        "id": "Nisk7W_2trsX",
        "outputId": "83f971f4-7155-4beb-cc80-d7d3eb885c24"
      },
      "source": [
        "t=[]\n",
        "n=11\n",
        "for i in range(1,n):\n",
        "    classifier = KNeighborsClassifier(n_neighbors = i, metric = 'minkowski', p = 2)\n",
        "    classifier.fit(Xtrain, ytrain)\n",
        "    y_pred = classifier.predict(Xtest)\n",
        "    cm = accuracy_score(ytest, y_pred)\n",
        "    t.append(cm)\n",
        "    print(\"Value of k=\",i)\n",
        "    print(cm)\n",
        "\n",
        "\n",
        "#Printing maximum k value between 1 to 10\n",
        "a=t.index(max(t))\n",
        "a+=1\n",
        "print(\"Maximum accuracy at k = \",a)\n",
        "print(max(t))"
      ],
      "execution_count": 71,
      "outputs": [
        {
          "output_type": "stream",
          "text": [
            "Value of k= 1\n",
            "0.8321428571428572\n",
            "Value of k= 2\n",
            "0.7964285714285714\n",
            "Value of k= 3\n",
            "0.8321428571428572\n",
            "Value of k= 4\n",
            "0.825\n",
            "Value of k= 5\n",
            "0.8535714285714285\n",
            "Value of k= 6\n",
            "0.8607142857142858\n",
            "Value of k= 7\n",
            "0.8678571428571429\n",
            "Value of k= 8\n",
            "0.875\n",
            "Value of k= 9\n",
            "0.8535714285714285\n",
            "Value of k= 10\n",
            "0.875\n",
            "Maximum accuracy at k =  8\n",
            "0.875\n"
          ],
          "name": "stdout"
        }
      ]
    },
    {
      "cell_type": "code",
      "metadata": {
        "colab": {
          "base_uri": "https://localhost:8080/"
        },
        "id": "iJcWPQ_ntvSk",
        "outputId": "11db5c81-8304-4ae5-ba08-63c0ec0a5d18"
      },
      "source": [
        "rnf = RandomForestClassifier()\n",
        "rnf.fit(Xtrain, ytrain)\n",
        "print(\"Train score\",rnf.score(Xtrain,ytrain))\n",
        "print(\"Validation score\",rnf.score(Xvalid,yvalid))\n",
        "print(\"Test score\",rnf.score(Xtest,ytest))"
      ],
      "execution_count": 72,
      "outputs": [
        {
          "output_type": "stream",
          "text": [
            "Train score 1.0\n",
            "Validation score 0.8928571428571429\n",
            "Test score 0.9142857142857143\n"
          ],
          "name": "stdout"
        }
      ]
    },
    {
      "cell_type": "code",
      "metadata": {
        "colab": {
          "base_uri": "https://localhost:8080/"
        },
        "id": "OddrXxGCtxyq",
        "outputId": "bceb93ed-270b-4b77-a4b1-508b3ee4e509"
      },
      "source": [
        "from sklearn.linear_model import LogisticRegression\n",
        "lg = LogisticRegression(penalty = 'l2',C=1)\n",
        "lg.fit(Xtrain,ytrain)\n",
        "\n",
        "print(\"Num Features: %d\",lg.coef_)\n",
        "print(\"Selected Features: %s\",lg.intercept_)\n",
        "print('Actual number of iterations for all classes: ', lg.n_iter_)\n",
        "\n",
        "# Compute the training accuracy\n",
        "print('Mean accuracy  of training data: {0:.2f}%'\n",
        "      .format(100 * lg.score(Xtrain, ytrain)))\n",
        "# # Compute the validation accuracy\n",
        "print('Mean accuracy  of validation data: {0:.2f}'\n",
        "      .format(100 * lg.score(Xvalid, yvalid)))\n",
        "# # # Compute the test accuracy\n",
        "print('Mean accuracy  of test data: {0:.2f}'\n",
        "      .format(100 * lg.score(Xtest, ytest)))"
      ],
      "execution_count": 74,
      "outputs": [
        {
          "output_type": "stream",
          "text": [
            "Num Features: %d [[ 0.17637104  2.05328519 -0.17290415  1.09679538  0.16929293 -0.11833352\n",
            "   1.29749571 -0.65149756  1.49188624  1.49249881  0.4488693  -0.78476459\n",
            "  -0.24292582 -2.20189449  0.24154199 -1.29639873 -0.460085    0.08803006\n",
            "  -0.48627234  0.60815216 -1.61635994 -0.8703911  -0.35790352  0.4912514\n",
            "  -0.03743947  0.25947773  0.16603979 -0.37960947 -0.03350581  0.01003518\n",
            "   0.01436406  0.31006272]]\n",
            "Selected Features: %s [-0.36603653]\n",
            "Actual number of iterations for all classes:  [44]\n",
            "Mean accuracy  of training data: 96.05%\n",
            "Mean accuracy  of validation data: 90.31\n",
            "Mean accuracy  of test data: 92.14\n"
          ],
          "name": "stdout"
        }
      ]
    }
  ]
}